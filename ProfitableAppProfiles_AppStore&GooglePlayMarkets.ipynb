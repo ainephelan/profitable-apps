{
 "cells": [
  {
   "cell_type": "markdown",
   "metadata": {
    "collapsed": true
   },
   "source": [
    "# Profitable App Profiles for the App Store and Google Play Markets\n",
    "\n",
    "\n",
    "### Context\n",
    "We're working as data analysts for a company that builds Android and iOS mobile apps, and our job is to enable our team of developers to make data-driven decisions with respect to the kind of apps they build.\n",
    "\n",
    "### Aim\n",
    "Our aim for this project is to find mobile app profiles that are profitable for the App Store and Google Play markets. \n",
    "\n",
    "At our company, we only build apps that are **free to download and install**, and our main source of revenue consists of **in-app ads**. This means that our revenue for any given app is mostly influenced by the **number of users that use our app**. \n",
    "\n",
    "Over the course of this project we will analyze data to help our developers understand what kinds of apps are likely to attract more users.\n",
    "\n",
    "### Skills / Libraries / Tools\n",
    "\n",
    "Note, we will only employ the standard Python library in this project, using the below to performing some **practical data analysis**:\n",
    "\n",
    "- Some Python basics (arithmetical operations, variables, common data types, etc.)\n",
    "- List and for loops\n",
    "- Conditional statements\n",
    "- Dictionaries and frequency tables\n",
    "- Functions\n",
    "- Jupyter Notebook"
   ]
  },
  {
   "cell_type": "markdown",
   "metadata": {},
   "source": [
    "## Opening and exploring the datasets\n",
    "\n",
    "As of [August 2019](https://www.statista.com/statistics/276623/number-of-apps-available-in-leading-app-stores/) there were 1.96M iOS apps available on the Apple App Store and 2.46M Android apps on Google play.\n",
    "\n",
    "<img src=\"statista.png\" alt=\"Drawing\" style=\"width: 600px;\"/>\n",
    "\n",
    "We are reluctant to invest the significant amounts of time and money it would take to collect new data on such a large volume of apps, so we will try instead to analyse a sample of the data. \n",
    "\n",
    "Luckily, we have found two existing data sets on [Kaggle](https://www.kaggle.com/) which seem useful to our purposes. \n",
    "\n",
    "- A [data set](https://www.kaggle.com/lava18/google-play-store-apps/home) containing data about approximately 10,000 Android apps from Google Play, collected in August 2018.\n",
    "- A [data set](https://www.kaggle.com/ramamet4/app-store-apple-data-set-10k-apps/home) containing data about approximately 7,000 iOS apps from the App Store, collected in July 2017.\n",
    "\n",
    "Let's start with opening both data sets."
   ]
  },
  {
   "cell_type": "code",
   "execution_count": 88,
   "metadata": {},
   "outputs": [],
   "source": [
    "from csv import reader\n",
    "\n",
    "# Create a list of lists containing the iOS app data\n",
    "opened_file_apple = open('AppleStore.csv')\n",
    "read_file_apple = reader(opened_file_apple)\n",
    "apple_data_all = list(read_file_apple)\n",
    "apple_data_header = apple_data_all[0]\n",
    "apple_data = apple_data_all[1:]\n",
    "\n",
    "# Create a list of lists containing the Android app data\n",
    "opened_file_google = open('googleplaystore.csv')\n",
    "read_file_google = reader(opened_file_google)\n",
    "google_data_all = list(read_file_google)\n",
    "google_data_header = google_data_all[0]\n",
    "google_data = google_data_all[1:]"
   ]
  },
  {
   "cell_type": "markdown",
   "metadata": {},
   "source": [
    "To help in our exploratory data analysis ([EDA](https://en.wikipedia.org/wiki/Exploratory_data_analysis)) we create a function `explore_data` which allows us to repeatedly explore rows in a readable way.\n",
    "\n",
    "#### Apple App Store data\n",
    "Let's explore the Apple App Store data set first."
   ]
  },
  {
   "cell_type": "code",
   "execution_count": 13,
   "metadata": {},
   "outputs": [
    {
     "name": "stdout",
     "output_type": "stream",
     "text": [
      "['id', 'track_name', 'size_bytes', 'currency', 'price', 'rating_count_tot', 'rating_count_ver', 'user_rating', 'user_rating_ver', 'ver', 'cont_rating', 'prime_genre', 'sup_devices.num', 'ipadSc_urls.num', 'lang.num', 'vpp_lic']\n",
      "\n",
      "\n",
      "['284882215', 'Facebook', '389879808', 'USD', '0.0', '2974676', '212', '3.5', '3.5', '95.0', '4+', 'Social Networking', '37', '1', '29', '1']\n",
      "\n",
      "\n",
      "['389801252', 'Instagram', '113954816', 'USD', '0.0', '2161558', '1289', '4.5', '4.0', '10.23', '12+', 'Photo & Video', '37', '0', '29', '1']\n",
      "\n",
      "\n",
      "Number of rows: 7197\n",
      "Number of columns: 16\n"
     ]
    }
   ],
   "source": [
    "# Create function to print data set slices\n",
    "def explore_data(dataset, start, end, rows_and_columns=False):\n",
    "    dataset_slice = dataset[start:end]    \n",
    "    for row in dataset_slice:\n",
    "        print(row)\n",
    "        print('\\n') # adds a new (empty) line after each row\n",
    "\n",
    "    if rows_and_columns:\n",
    "        print('Number of rows:', len(dataset))\n",
    "        print('Number of columns:', len(dataset[0]))\n",
    "\n",
    "# Pass in Apple app data\n",
    "print(apple_data_header)\n",
    "print('\\n')\n",
    "explore_data(apple_data, 0, 2, True)"
   ]
  },
  {
   "cell_type": "markdown",
   "metadata": {},
   "source": [
    "We can see the `apple_data` dataset has 7197 rows (without header) and 16 columns.\n",
    "\n",
    "At a glance, some useful columns could be: \n",
    "\n",
    "| Column Name | Description |\n",
    "| --- | --- |\n",
    "| `track name` | App name |\n",
    "| `price` | Price amount |\n",
    "| `rating_count_tot` | User Rating counts (for all versions) |\n",
    "| `rating_count_ver` | User Rating counts (for current version) |\n",
    "| `user_rating` | Average User Rating value (for all version) |\n",
    "| `user_rating_ver` | Average User Rating value (for current version) |\n",
    "| `prime_genre` | Primary genre |\n",
    "\n",
    "Further details about the dataset columns can be found in the documentation [here](https://www.kaggle.com/ramamet4/app-store-apple-data-set-10k-apps/home).\n",
    "\n",
    "#### Google Play data\n",
    "Now let's do the same for the Google Play data set."
   ]
  },
  {
   "cell_type": "code",
   "execution_count": 14,
   "metadata": {},
   "outputs": [
    {
     "name": "stdout",
     "output_type": "stream",
     "text": [
      "['App', 'Category', 'Rating', 'Reviews', 'Size', 'Installs', 'Type', 'Price', 'Content Rating', 'Genres', 'Last Updated', 'Current Ver', 'Android Ver']\n",
      "\n",
      "\n",
      "['Photo Editor & Candy Camera & Grid & ScrapBook', 'ART_AND_DESIGN', '4.1', '159', '19M', '10,000+', 'Free', '0', 'Everyone', 'Art & Design', 'January 7, 2018', '1.0.0', '4.0.3 and up']\n",
      "\n",
      "\n",
      "Number of rows: 10841\n",
      "Number of columns: 13\n"
     ]
    }
   ],
   "source": [
    "# Pass in Google app data\n",
    "print(google_data_header)\n",
    "print('\\n')\n",
    "explore_data(google_data, 0, 1, True)"
   ]
  },
  {
   "cell_type": "markdown",
   "metadata": {},
   "source": [
    "The `google_data` dataset has 10841 rows (without header) and 13 columns.\n",
    "\n",
    "Useful columns could be: \n",
    "\n",
    "| Column Name | Description |\n",
    "| --- | --- |\n",
    "| `App` | App name |\n",
    "| `Category` | Categry the app belongs to |\n",
    "| `Rating` | Overall user rating of the app (as when scraped) |\n",
    "| `Reviews` | Number of user reviews for the app (as when scraped) |\n",
    "| `Installs` | Number of user downloads/installs for the app (as when scraped) |\n",
    "| `Type` | Paid or free |\n",
    "| `Price` | Price |\n",
    "| `Genres` | An app can belong to multiple genres |\n",
    "\n",
    "Details about the dataset columns can be found [here](https://www.kaggle.com/lava18/google-play-store-apps).\n"
   ]
  },
  {
   "cell_type": "markdown",
   "metadata": {},
   "source": [
    "## Deleting Incorrect Data\n",
    "\n",
    "#### Google Play data\n",
    "The `google_data` data set contains a [known](https://www.kaggle.com/lava18/google-play-store-apps/discussion/66015) error at index `10472`. The `Category` value is missing and there is a column shift for the columns that follow.\n",
    "\n",
    "To confirm this we print out the header, a correct row, and the row in question."
   ]
  },
  {
   "cell_type": "code",
   "execution_count": 15,
   "metadata": {},
   "outputs": [
    {
     "name": "stdout",
     "output_type": "stream",
     "text": [
      "['App', 'Category', 'Rating', 'Reviews', 'Size', 'Installs', 'Type', 'Price', 'Content Rating', 'Genres', 'Last Updated', 'Current Ver', 'Android Ver']\n",
      "\n",
      "\n",
      "['Photo Editor & Candy Camera & Grid & ScrapBook', 'ART_AND_DESIGN', '4.1', '159', '19M', '10,000+', 'Free', '0', 'Everyone', 'Art & Design', 'January 7, 2018', '1.0.0', '4.0.3 and up']\n",
      "\n",
      "\n",
      "Correct row length:  13\n",
      "\n",
      "\n",
      "['Life Made WI-Fi Touchscreen Photo Frame', '1.9', '19', '3.0M', '1,000+', 'Free', '0', 'Everyone', '', 'February 11, 2018', '1.0.19', '4.0 and up']\n",
      "\n",
      "\n",
      "Incorrect row length:  12\n"
     ]
    }
   ],
   "source": [
    "# compare rows\n",
    "print(google_data_header)    #header\n",
    "print('\\n')\n",
    "print(google_data[0])    #correct row\n",
    "print('\\n')\n",
    "print('Correct row length: ', len(google_data[0])) #correct row length\n",
    "print('\\n')\n",
    "print(google_data[10472])    #incorrect row\n",
    "print('\\n')\n",
    "print('Incorrect row length: ', len(google_data[10472])) #correct row length\n"
   ]
  },
  {
   "cell_type": "markdown",
   "metadata": {},
   "source": [
    "This can also be checked by looking for all rows which do not have length of 13.\n",
    "\n",
    "We can see that our list below returns the same app name as row 10472."
   ]
  },
  {
   "cell_type": "code",
   "execution_count": 16,
   "metadata": {},
   "outputs": [
    {
     "name": "stdout",
     "output_type": "stream",
     "text": [
      "['Life Made WI-Fi Touchscreen Photo Frame']\n"
     ]
    }
   ],
   "source": [
    "# Instantiate emply list\n",
    "app_name = []\n",
    "\n",
    "# Iterate to find rows with missing value\n",
    "for each_row in google_data:\n",
    "    length = len(each_row)\n",
    "    if length != 13:\n",
    "        name = each_row[0]\n",
    "        app_name.append(name)\n",
    "        \n",
    "print(app_name)"
   ]
  },
  {
   "cell_type": "markdown",
   "metadata": {},
   "source": [
    "Let's delete the row with the error and check."
   ]
  },
  {
   "cell_type": "code",
   "execution_count": 17,
   "metadata": {},
   "outputs": [
    {
     "name": "stdout",
     "output_type": "stream",
     "text": [
      "['Life Made WI-Fi Touchscreen Photo Frame', '1.9', '19', '3.0M', '1,000+', 'Free', '0', 'Everyone', '', 'February 11, 2018', '1.0.19', '4.0 and up']\n",
      "Length before:  10841\n",
      "\n",
      "\n",
      "['osmino Wi-Fi: free WiFi', 'TOOLS', '4.2', '134203', '4.1M', '10,000,000+', 'Free', '0', 'Everyone', 'Tools', 'August 7, 2018', '6.06.14', '4.4 and up']\n",
      "Length after:  10840\n"
     ]
    }
   ],
   "source": [
    "print(google_data[10472])\n",
    "print('Length before: ', len(google_data))\n",
    "print('\\n')\n",
    "\n",
    "# Delete the row with the bad data\n",
    "del google_data[10472]    #only run once\n",
    "\n",
    "# Check\n",
    "print(google_data[10472])\n",
    "print('Length after: ', len(google_data))"
   ]
  },
  {
   "cell_type": "markdown",
   "metadata": {},
   "source": [
    "## Removing Duplicate Entries\n",
    "\n",
    "#### Google Play data\n",
    "We notice that out `google_data` data set has rows with duplicate app names, so we check the entire data set for duplicate app names and count how many there are."
   ]
  },
  {
   "cell_type": "code",
   "execution_count": 90,
   "metadata": {},
   "outputs": [
    {
     "name": "stdout",
     "output_type": "stream",
     "text": [
      "Duplicates Android apps: 1181\n",
      "Unique Android apps: 9660\n",
      "\n",
      "\n",
      "['Quick PDF Scanner + OCR FREE', 'Box', 'Google My Business', 'ZOOM Cloud Meetings', 'join.me - Simple Meetings']\n",
      "\n",
      "\n",
      "['App', 'Category', 'Rating', 'Reviews', 'Size', 'Installs', 'Type', 'Price', 'Content Rating', 'Genres', 'Last Updated', 'Current Ver', 'Android Ver']\n",
      "['Instagram', 'SOCIAL', '4.5', '66577313', 'Varies with device', '1,000,000,000+', 'Free', '0', 'Teen', 'Social', 'July 31, 2018', 'Varies with device', 'Varies with device']\n",
      "['Instagram', 'SOCIAL', '4.5', '66577446', 'Varies with device', '1,000,000,000+', 'Free', '0', 'Teen', 'Social', 'July 31, 2018', 'Varies with device', 'Varies with device']\n",
      "['Instagram', 'SOCIAL', '4.5', '66577313', 'Varies with device', '1,000,000,000+', 'Free', '0', 'Teen', 'Social', 'July 31, 2018', 'Varies with device', 'Varies with device']\n",
      "['Instagram', 'SOCIAL', '4.5', '66509917', 'Varies with device', '1,000,000,000+', 'Free', '0', 'Teen', 'Social', 'July 31, 2018', 'Varies with device', 'Varies with device']\n"
     ]
    }
   ],
   "source": [
    "# Instantiate lists\n",
    "google_unique_apps = []\n",
    "google_duplicate_apps = []\n",
    "\n",
    "# Iterate over dataset and append rows to appropriate list\n",
    "for each_row in google_data:\n",
    "    name = each_row[0]\n",
    "    if name in google_unique_apps:\n",
    "        google_duplicate_apps.append(name)\n",
    "    else:\n",
    "        google_unique_apps.append(name)\n",
    "\n",
    "# Print to confirm\n",
    "print('Duplicates Android apps:', len(google_duplicate_apps))\n",
    "print('Unique Android apps:', len(google_unique_apps))\n",
    "print('\\n')\n",
    "print(google_duplicate_apps[0:5])\n",
    "print('\\n')\n",
    "print(google_data_header)\n",
    "for each_row in google_data:\n",
    "    name = each_row[0]\n",
    "    if name == 'Instagram':\n",
    "        print(each_row)\n"
   ]
  },
  {
   "cell_type": "markdown",
   "metadata": {},
   "source": [
    "Looking at the above rows for the Instagram app we can see that the main difference happens in the fourth field of each row, the `Reviews` field, which gives the number of reviews. \n",
    "\n",
    "We can assume the higher the number of reviews, the more recent the data should be. Therefore, we'll only keep the row with the highest number of reviews and remove the other entries for any given app.\n",
    "\n",
    "Let's create a dictionary storing app names as the key, and the  highest number of reviews for that app as the corresponding value. "
   ]
  },
  {
   "cell_type": "code",
   "execution_count": 43,
   "metadata": {},
   "outputs": [
    {
     "name": "stdout",
     "output_type": "stream",
     "text": [
      "Expected length: 9659\n"
     ]
    },
    {
     "data": {
      "text/plain": [
       "9659"
      ]
     },
     "execution_count": 43,
     "metadata": {},
     "output_type": "execute_result"
    }
   ],
   "source": [
    "# Check how many rows should be left in our dataset after we remove the duplicates\n",
    "print('Expected length:', len(google_data) - 1181)\n",
    "\n",
    "# Instantiate our dictionary\n",
    "reviews_max = {}\n",
    "\n",
    "# Iterate over data set and append rows to appropriate list\n",
    "for each_row in google_data:\n",
    "    name = each_row[0]\n",
    "    n_reviews = float(each_row[3])\n",
    "    \n",
    "    if name in reviews_max and (n_reviews > reviews_max[name]):\n",
    "        reviews_max[name] = n_reviews\n",
    "    \n",
    "    else:\n",
    "        reviews_max[name] = n_reviews\n",
    "\n",
    "# Check        \n",
    "len(reviews_max)"
   ]
  },
  {
   "cell_type": "markdown",
   "metadata": {},
   "source": [
    "Now let's use the dictionary to create a new data set without the duplicates, i.e. one only containing entries with the highest rating.\n",
    "\n",
    "To do this we initialise 2 lists:\n",
    "- `google_clean` which will become our new list of lists\n",
    "- `already_added` to check for cases where we have genuinely duplicate rows\n"
   ]
  },
  {
   "cell_type": "code",
   "execution_count": 20,
   "metadata": {},
   "outputs": [
    {
     "data": {
      "text/plain": [
       "9659"
      ]
     },
     "execution_count": 20,
     "metadata": {},
     "output_type": "execute_result"
    }
   ],
   "source": [
    "# Instantiate lists\n",
    "google_clean = []\n",
    "already_added = []\n",
    "\n",
    "# Iterate, checking for genuine duplicates and discarding if so\n",
    "for each_row in google_data:\n",
    "    name = each_row[0]\n",
    "    n_reviews = float(each_row[3])\n",
    "    \n",
    "    if (reviews_max[name] == n_reviews) and name not in already_added:\n",
    "        google_clean.append(each_row)\n",
    "        already_added.append(name)\n",
    "    \n",
    "len(google_clean)"
   ]
  },
  {
   "cell_type": "markdown",
   "metadata": {},
   "source": [
    "## Remove non-English Characters\n",
    "\n",
    "During our EDA we have come across apps in both data sets which contain non-English characters."
   ]
  },
  {
   "cell_type": "code",
   "execution_count": 21,
   "metadata": {
    "scrolled": true
   },
   "outputs": [
    {
     "name": "stdout",
     "output_type": "stream",
     "text": [
      "爱奇艺PPS -《欢乐颂2》电视剧热播\n",
      "【脱出ゲーム】絶対に最後までプレイしないで 〜謎解き＆ブロックパズル〜\n",
      "\n",
      "\n",
      "中国語 AQリスニング\n",
      "لعبة تقدر تربح DZ\n",
      "27426\n"
     ]
    }
   ],
   "source": [
    "print(apple_data[813][1])\n",
    "print(apple_data[6731][1])\n",
    "print('\\n')\n",
    "print(google_clean[4412][0])\n",
    "print(google_clean[7940][0])\n",
    "print(ord('欢'))"
   ]
  },
  {
   "cell_type": "markdown",
   "metadata": {},
   "source": [
    "Non-English apps are outside the scope of this project, so we decide to use the `ord()` built-in function to identify and and remove them.\n",
    "\n",
    "We create a function `in_english()` which checks the ord value of each character in a string. As all English characters are in the range 0 to 127, If the returned value is greater than 127, we know it must be a non-English character in the string.\n",
    "\n",
    "\n",
    "#### App Store Data\n",
    "Let's build our function and use it on our `apple_data` data set first."
   ]
  },
  {
   "cell_type": "code",
   "execution_count": 22,
   "metadata": {},
   "outputs": [
    {
     "name": "stdout",
     "output_type": "stream",
     "text": [
      "7197\n",
      "True\n"
     ]
    }
   ],
   "source": [
    "# Function to check ord value and determine if string is in English \n",
    "def in_english(string):\n",
    "    ord_count = 0\n",
    "    for each_character in string:\n",
    "        ord_n = ord(each_character)\n",
    "        \n",
    "        if ord_n > 127:\n",
    "            ord_count += 1\n",
    "    \n",
    "    # allows for English strings containing, e.g. emojis, '™' etc.\n",
    "    if ord_count >= 3:            \n",
    "        return False\n",
    "    else:\n",
    "        return True\n",
    "\n",
    "# Instantiate lists to capture English/non-English app data\n",
    "apple_data_english = []\n",
    "apple_data_nonenglish = []\n",
    "\n",
    "\n",
    "# Iterate over data set and append rows to appropriate list\n",
    "for each_row in apple_data:\n",
    "    app_name = each_row[1]\n",
    "    \n",
    "    if in_english(app_name):\n",
    "        apple_data_english.append(each_row)\n",
    "    else:\n",
    "        apple_data_nonenglish.append(each_row)\n",
    "                \n",
    "# Check        \n",
    "print(len(apple_data_english) + len(apple_data_nonenglish))\n",
    "print(len(apple_data) == (len(apple_data_english) + len(apple_data_nonenglish)))\n"
   ]
  },
  {
   "cell_type": "markdown",
   "metadata": {},
   "source": [
    "#### Google Play data\n",
    "\n",
    "Now let's do the same for our `google_clean` data set."
   ]
  },
  {
   "cell_type": "code",
   "execution_count": 23,
   "metadata": {},
   "outputs": [
    {
     "name": "stdout",
     "output_type": "stream",
     "text": [
      "9659\n",
      "True\n"
     ]
    }
   ],
   "source": [
    "# Instantiate lists to capture English/non-English app data\n",
    "google_clean_english = []\n",
    "google_clean_nonenglish = []\n",
    "\n",
    "# Iterate over data set and append rows to appropriate list\n",
    "for each_row in google_clean:\n",
    "    app_name = each_row[0]\n",
    "    \n",
    "    if in_english(app_name):\n",
    "        google_clean_english.append(each_row)    \n",
    "    else:\n",
    "        google_clean_nonenglish.append(each_row)\n",
    "\n",
    "print(len(google_clean_english) + len(google_clean_nonenglish))\n",
    "print(len(google_clean) == (len(google_clean_english) + len(google_clean_nonenglish)))"
   ]
  },
  {
   "cell_type": "markdown",
   "metadata": {
    "collapsed": true
   },
   "source": [
    "## Isolate the free apps\n",
    "\n",
    "As our company only builds apps that are free to download and install, we zero in on these for our analysis.\n",
    "\n",
    "#### App Store data\n",
    "First let's check the price field ing our `apple_data_english` data set and use the values found there to further subdivide our data set into free and not-free."
   ]
  },
  {
   "cell_type": "code",
   "execution_count": 45,
   "metadata": {},
   "outputs": [
    {
     "name": "stdout",
     "output_type": "stream",
     "text": [
      "3203\n",
      "2952\n",
      "True\n"
     ]
    }
   ],
   "source": [
    "# Instantiate lists to capture free / not-free data\n",
    "apple_data_english_free = []\n",
    "apple_data_english_notfree = []\n",
    "\n",
    "# Iterate over data set and append rows to appropriate lists\n",
    "for each_row in apple_data_english:\n",
    "    price = float(each_row[4])\n",
    "    if price == 0.0:\n",
    "        apple_data_english_free.append(each_row)\n",
    "    else:\n",
    "        apple_data_english_notfree.append(each_row)\n",
    "\n",
    "ios_final = apple_data_english_free\n",
    "\n",
    "# Check\n",
    "print(len(ios_final))\n",
    "print(len(apple_data_english_notfree))\n",
    "print(len(apple_data_english) == (len(ios_final) + len(apple_data_english_notfree)))\n"
   ]
  },
  {
   "cell_type": "markdown",
   "metadata": {},
   "source": [
    "#### Google Play data\n",
    "\n",
    "Repeat the process for our `google_clean_english` data set."
   ]
  },
  {
   "cell_type": "code",
   "execution_count": 47,
   "metadata": {},
   "outputs": [
    {
     "name": "stdout",
     "output_type": "stream",
     "text": [
      "8847\n",
      "750\n",
      "True\n"
     ]
    }
   ],
   "source": [
    "# Instantiate lists\n",
    "google_clean_english_free = []\n",
    "google_clean_english_nonfree = []\n",
    "\n",
    "# Iterate over data set and append row to appropriate list\n",
    "for each_row in google_clean_english:\n",
    "    price = each_row[6]\n",
    "    if price == 'Free':\n",
    "        google_clean_english_free.append(each_row)\n",
    "    else:\n",
    "        google_clean_english_nonfree.append(each_row)\n",
    "\n",
    "android_final = google_clean_english_free\n",
    "\n",
    "# Check\n",
    "print(len(android_final))\n",
    "print(len(google_clean_english_nonfree))\n",
    "print(len(google_clean_english) == (len(android_final) + len(google_clean_english_nonfree)))\n"
   ]
  },
  {
   "cell_type": "markdown",
   "metadata": {},
   "source": [
    "## Most Common Apps by Genre\n",
    "\n",
    "As we mentioned in the introduction, because our revenue is highly influenced by the number of people using our apps, our aim is to determine the kinds of apps that are likely to attract the most users.\n",
    "\n",
    "As we want to minimize our risk and overhead in launching a new app, we take the following validation strategy approach:\n",
    "\n",
    "1. Build a minimal Android version of the app, and add it to Google Play.\n",
    "2. If the app has a good response from users, we then develop it further.\n",
    "3. If the app is profitable after six months, we also build an iOS version of the app and add it to the App Store.\n",
    "\n",
    "Because our end goal is to add the app on both the App Store and Google Play, it is in our interest to find app profiles that are successful in both markets.\n",
    "\n",
    "We decide the fields that best describe the app profiles are:\n",
    "- `prime_genre` column of the App Store dataset\n",
    "- `Genres` and `Category` columns of the Google Play dataset\n"
   ]
  },
  {
   "cell_type": "code",
   "execution_count": 75,
   "metadata": {},
   "outputs": [
    {
     "name": "stdout",
     "output_type": "stream",
     "text": [
      "iOS genre data:\n",
      "prime_genre\n",
      "Social Networking\n",
      "Photo & Video\n",
      "Games\n",
      "Games\n",
      "Music\n",
      "\n",
      "\n",
      "Android genre data:\n",
      "Category , Genres\n",
      "ART_AND_DESIGN , Art & Design\n",
      "ART_AND_DESIGN , Art & Design\n",
      "ART_AND_DESIGN , Art & Design\n",
      "ART_AND_DESIGN , Art & Design;Creativity\n",
      "ART_AND_DESIGN , Art & Design\n"
     ]
    }
   ],
   "source": [
    "print('iOS genre data:')\n",
    "print(apple_data_header[11])\n",
    "\n",
    "for row in ios_final[:5]:\n",
    "    print(row[11])\n",
    "    \n",
    "print('\\n')\n",
    "print('Android genre data:')\n",
    "print(google_data_header[1], ',', google_data_header[9])\n",
    "\n",
    "for row in android_final[:5]:\n",
    "    print(row[1], ',', row[9])"
   ]
  },
  {
   "cell_type": "markdown",
   "metadata": {},
   "source": [
    "We need to get a sense of the most popular app genres for each market. \n",
    "\n",
    "First we create a function we can use on both our `ios_final` and `android_final` data sets, to build frequency tables capturing genre frequencies."
   ]
  },
  {
   "cell_type": "code",
   "execution_count": 80,
   "metadata": {},
   "outputs": [
    {
     "name": "stdout",
     "output_type": "stream",
     "text": [
      "{'Social Networking': 3.31, 'Photo & Video': 5.0, 'Games': 58.26, 'Music': 2.06, 'Reference': 0.53, 'Health & Fitness': 2.03, 'Weather': 0.87, 'Utilities': 2.47, 'Travel': 1.25, 'Shopping': 2.59, 'News': 1.34, 'Navigation': 0.19, 'Lifestyle': 1.56, 'Entertainment': 7.84, 'Food & Drink': 0.81, 'Sports': 2.15, 'Book': 0.37, 'Finance': 1.09, 'Education': 3.68, 'Productivity': 1.75, 'Business': 0.53, 'Catalogs': 0.12, 'Medical': 0.19}\n",
      "\n",
      "\n",
      "{'ART_AND_DESIGN': 0.64, 'AUTO_AND_VEHICLES': 0.93, 'BEAUTY': 0.6, 'BOOKS_AND_REFERENCE': 2.14, 'BUSINESS': 4.6, 'COMICS': 0.61, 'COMMUNICATION': 3.23, 'DATING': 1.87, 'EDUCATION': 1.16, 'ENTERTAINMENT': 0.96, 'EVENTS': 0.71, 'FINANCE': 3.71, 'FOOD_AND_DRINK': 1.24, 'HEALTH_AND_FITNESS': 3.09, 'HOUSE_AND_HOME': 0.8, 'LIBRARIES_AND_DEMO': 0.94, 'LIFESTYLE': 3.89, 'GAME': 9.7, 'FAMILY': 18.93, 'MEDICAL': 3.54, 'SOCIAL': 2.67, 'SHOPPING': 2.25, 'PHOTOGRAPHY': 2.95, 'SPORTS': 3.39, 'TRAVEL_AND_LOCAL': 2.34, 'TOOLS': 8.45, 'PERSONALIZATION': 3.32, 'PRODUCTIVITY': 3.9, 'PARENTING': 0.66, 'WEATHER': 0.79, 'VIDEO_PLAYERS': 1.8, 'NEWS_AND_MAGAZINES': 2.8, 'MAPS_AND_NAVIGATION': 1.39}\n"
     ]
    }
   ],
   "source": [
    "# Function to create frequency tables showing percentages\n",
    "def freq_table(dataset, index):\n",
    "    dictionary = {}\n",
    "    for each_row in dataset:\n",
    "        key = each_row[index]\n",
    "        \n",
    "        if key in dictionary:\n",
    "            dictionary[key] += 1\n",
    "        else:\n",
    "            dictionary[key] = 1\n",
    "    \n",
    "    dictionary_percent = {}\n",
    "    for key in dictionary:\n",
    "        percent = round(dictionary[key] / len(dataset) * 100, 2)\n",
    "        dictionary_percent[key] = percent\n",
    "    \n",
    "    return dictionary_percent\n",
    "\n",
    "# Check\n",
    "print(freq_table(ios_final, 11))    #prime_genre index\n",
    "print('\\n')\n",
    "print(freq_table(android_final, 1))    #Category index\n",
    "# print(freq_table(android_final, 9))    #Genres index"
   ]
  },
  {
   "cell_type": "markdown",
   "metadata": {},
   "source": [
    "Now that we have a way of making our frequency tables, we want to be able to easily understand the contents. \n",
    "\n",
    "To this end we create a function `display_table` which will call our `freq_table` function to create a frequency table, then sort the table based on the frequencies, finally displaying the results in descending order."
   ]
  },
  {
   "cell_type": "code",
   "execution_count": 78,
   "metadata": {},
   "outputs": [],
   "source": [
    "# Function to display the percentages in descending order\n",
    "def display_table(dataset, index):\n",
    "    table = freq_table(dataset, index)\n",
    "    table_display = []\n",
    "    \n",
    "    # Create a tuple with the index/value swapped around\n",
    "    for key in table:\n",
    "        key_val_as_tuple = (table[key], key)    \n",
    "        table_display.append(key_val_as_tuple) \n",
    "    \n",
    "    # Sort on the values\n",
    "    table_sorted = sorted(table_display, reverse = True)    \n",
    "    \n",
    "    for entry in table_sorted:\n",
    "        print(entry[1], ':', entry[0])    #print so that it is \"index : value\"\n",
    "    "
   ]
  },
  {
   "cell_type": "markdown",
   "metadata": {
    "collapsed": true
   },
   "source": [
    "#### App Store data\n",
    "\n",
    "Now that we have our function let's start by analysing the genre frequencies of our `ios_final` data set."
   ]
  },
  {
   "cell_type": "code",
   "execution_count": 85,
   "metadata": {},
   "outputs": [
    {
     "name": "stdout",
     "output_type": "stream",
     "text": [
      "Games : 58.26\n",
      "Entertainment : 7.84\n",
      "Photo & Video : 5.0\n",
      "Education : 3.68\n",
      "Social Networking : 3.31\n",
      "Shopping : 2.59\n",
      "Utilities : 2.47\n",
      "Sports : 2.15\n",
      "Music : 2.06\n",
      "Health & Fitness : 2.03\n",
      "Productivity : 1.75\n",
      "Lifestyle : 1.56\n",
      "News : 1.34\n",
      "Travel : 1.25\n",
      "Finance : 1.09\n",
      "Weather : 0.87\n",
      "Food & Drink : 0.81\n",
      "Reference : 0.53\n",
      "Business : 0.53\n",
      "Book : 0.37\n",
      "Navigation : 0.19\n",
      "Medical : 0.19\n",
      "Catalogs : 0.12\n"
     ]
    }
   ],
   "source": [
    "display_table(ios_final, -5)    # prime_genre index"
   ]
  },
  {
   "cell_type": "markdown",
   "metadata": {},
   "source": [
    "We can see over half (58.26%) of the free English apps available from the App Store are `Games` apps, making then the most common genre available.\n",
    "\n",
    "`Entertainment` apps were the next most common (7.84%), followed by `Photo & Video` (5%), `Education` (3.68%) and `Social Networking` (3.31).\n",
    "\n",
    "The general impression is that the majority of the free English apps available from the App Store are those that cater for **fun** (games, entertainment, photo and video, social networking etc.), rather than those that are used for **practical purposes** (weather, finance, news, business etc.). \n",
    "\n",
    "**However**, the availability of a large number of apps for a particular genre does not necessarily correspend to large number of users for those apps. Perhaps supply exceeds demand.\n",
    "\n",
    "#### Google Play data\n",
    "Now let's examine the `Category` and `Genres` columns from our `android_final` data set."
   ]
  },
  {
   "cell_type": "code",
   "execution_count": 29,
   "metadata": {},
   "outputs": [
    {
     "name": "stdout",
     "output_type": "stream",
     "text": [
      "FAMILY : 18.93\n",
      "GAME : 9.7\n",
      "TOOLS : 8.45\n",
      "BUSINESS : 4.6\n",
      "PRODUCTIVITY : 3.9\n",
      "LIFESTYLE : 3.89\n",
      "FINANCE : 3.71\n",
      "MEDICAL : 3.54\n",
      "SPORTS : 3.39\n",
      "PERSONALIZATION : 3.32\n",
      "COMMUNICATION : 3.23\n",
      "HEALTH_AND_FITNESS : 3.09\n",
      "PHOTOGRAPHY : 2.95\n",
      "NEWS_AND_MAGAZINES : 2.8\n",
      "SOCIAL : 2.67\n",
      "TRAVEL_AND_LOCAL : 2.34\n",
      "SHOPPING : 2.25\n",
      "BOOKS_AND_REFERENCE : 2.14\n",
      "DATING : 1.87\n",
      "VIDEO_PLAYERS : 1.8\n",
      "MAPS_AND_NAVIGATION : 1.39\n",
      "FOOD_AND_DRINK : 1.24\n",
      "EDUCATION : 1.16\n",
      "ENTERTAINMENT : 0.96\n",
      "LIBRARIES_AND_DEMO : 0.94\n",
      "AUTO_AND_VEHICLES : 0.93\n",
      "HOUSE_AND_HOME : 0.8\n",
      "WEATHER : 0.79\n",
      "EVENTS : 0.71\n",
      "PARENTING : 0.66\n",
      "ART_AND_DESIGN : 0.64\n",
      "COMICS : 0.61\n",
      "BEAUTY : 0.6\n"
     ]
    }
   ],
   "source": [
    "display_table(android_final, 1)    # Category index"
   ]
  },
  {
   "cell_type": "markdown",
   "metadata": {},
   "source": [
    "We can see that among free English apps available from Google Play, the genres most available are `Family` (18.93%), `Games` (9.7%), `Tools` (8.45%), `Business` (4.6%), `Productivity` (3.9%) and `Lifestyle` (3.89%).\n",
    "\n",
    "Apps that serve a more practical purpose have a much higher representation here than at the App Store. \n",
    "\n",
    "While initially is seems that there are proportionally many more practical categories than fun categories, and more apps available in those practical categories than in fun categories, upon closer inspection the category with the most numerous apps, `FAMILY` (18.93%), actually appears to consist of game apps for children. However, this is still a more balanced availability of fun and practical free English apps here than at the App Store.\n",
    "\n",
    "This trend of a representation of both practical and fun apps seems to hold up when we examine the `Genres` table."
   ]
  },
  {
   "cell_type": "code",
   "execution_count": 30,
   "metadata": {},
   "outputs": [
    {
     "name": "stdout",
     "output_type": "stream",
     "text": [
      "Tools : 8.44\n",
      "Entertainment : 6.08\n",
      "Education : 5.36\n",
      "Business : 4.6\n",
      "Productivity : 3.9\n",
      "Lifestyle : 3.88\n",
      "Finance : 3.71\n",
      "Medical : 3.54\n",
      "Sports : 3.46\n",
      "Personalization : 3.32\n",
      "Communication : 3.23\n",
      "Action : 3.1\n",
      "Health & Fitness : 3.09\n",
      "Photography : 2.95\n",
      "News & Magazines : 2.8\n",
      "Social : 2.67\n",
      "Travel & Local : 2.33\n",
      "Shopping : 2.25\n",
      "Books & Reference : 2.14\n",
      "Simulation : 2.05\n",
      "Dating : 1.87\n",
      "Arcade : 1.84\n",
      "Video Players & Editors : 1.77\n",
      "Casual : 1.76\n",
      "Maps & Navigation : 1.39\n",
      "Food & Drink : 1.24\n",
      "Puzzle : 1.13\n",
      "Racing : 0.99\n",
      "Role Playing : 0.94\n",
      "Libraries & Demo : 0.94\n",
      "Auto & Vehicles : 0.93\n",
      "Strategy : 0.9\n",
      "House & Home : 0.8\n",
      "Weather : 0.79\n",
      "Events : 0.71\n",
      "Adventure : 0.67\n",
      "Comics : 0.6\n",
      "Beauty : 0.6\n",
      "Art & Design : 0.6\n",
      "Parenting : 0.5\n",
      "Card : 0.45\n",
      "Trivia : 0.42\n",
      "Casino : 0.42\n",
      "Educational;Education : 0.4\n",
      "Board : 0.38\n",
      "Educational : 0.37\n",
      "Education;Education : 0.34\n",
      "Word : 0.26\n",
      "Casual;Pretend Play : 0.24\n",
      "Music : 0.2\n",
      "Racing;Action & Adventure : 0.17\n",
      "Puzzle;Brain Games : 0.17\n",
      "Entertainment;Music & Video : 0.17\n",
      "Casual;Brain Games : 0.14\n",
      "Casual;Action & Adventure : 0.14\n",
      "Arcade;Action & Adventure : 0.12\n",
      "Action;Action & Adventure : 0.1\n",
      "Educational;Pretend Play : 0.09\n",
      "Simulation;Action & Adventure : 0.08\n",
      "Parenting;Education : 0.08\n",
      "Entertainment;Brain Games : 0.08\n",
      "Board;Brain Games : 0.08\n",
      "Parenting;Music & Video : 0.07\n",
      "Educational;Brain Games : 0.07\n",
      "Casual;Creativity : 0.07\n",
      "Art & Design;Creativity : 0.07\n",
      "Education;Pretend Play : 0.06\n",
      "Role Playing;Pretend Play : 0.05\n",
      "Education;Creativity : 0.05\n",
      "Role Playing;Action & Adventure : 0.03\n",
      "Puzzle;Action & Adventure : 0.03\n",
      "Entertainment;Creativity : 0.03\n",
      "Entertainment;Action & Adventure : 0.03\n",
      "Educational;Creativity : 0.03\n",
      "Educational;Action & Adventure : 0.03\n",
      "Education;Music & Video : 0.03\n",
      "Education;Brain Games : 0.03\n",
      "Education;Action & Adventure : 0.03\n",
      "Adventure;Action & Adventure : 0.03\n",
      "Video Players & Editors;Music & Video : 0.02\n",
      "Sports;Action & Adventure : 0.02\n",
      "Simulation;Pretend Play : 0.02\n",
      "Puzzle;Creativity : 0.02\n",
      "Music;Music & Video : 0.02\n",
      "Entertainment;Pretend Play : 0.02\n",
      "Casual;Education : 0.02\n",
      "Board;Action & Adventure : 0.02\n",
      "Video Players & Editors;Creativity : 0.01\n",
      "Trivia;Education : 0.01\n",
      "Travel & Local;Action & Adventure : 0.01\n",
      "Tools;Education : 0.01\n",
      "Strategy;Education : 0.01\n",
      "Strategy;Creativity : 0.01\n",
      "Strategy;Action & Adventure : 0.01\n",
      "Simulation;Education : 0.01\n",
      "Role Playing;Brain Games : 0.01\n",
      "Racing;Pretend Play : 0.01\n",
      "Puzzle;Education : 0.01\n",
      "Parenting;Brain Games : 0.01\n",
      "Music & Audio;Music & Video : 0.01\n",
      "Lifestyle;Pretend Play : 0.01\n",
      "Lifestyle;Education : 0.01\n",
      "Health & Fitness;Education : 0.01\n",
      "Health & Fitness;Action & Adventure : 0.01\n",
      "Entertainment;Education : 0.01\n",
      "Communication;Creativity : 0.01\n",
      "Comics;Creativity : 0.01\n",
      "Casual;Music & Video : 0.01\n",
      "Card;Action & Adventure : 0.01\n",
      "Books & Reference;Education : 0.01\n",
      "Art & Design;Pretend Play : 0.01\n",
      "Art & Design;Action & Adventure : 0.01\n",
      "Arcade;Pretend Play : 0.01\n",
      "Adventure;Education : 0.01\n"
     ]
    }
   ],
   "source": [
    "display_table(android_final, 9)    # Genres index"
   ]
  },
  {
   "cell_type": "markdown",
   "metadata": {},
   "source": [
    "While we are not sure what the distinction is between `Category` and `Genres` in the Google Play dataset, `Genres` appears to be much more granular, with more categories than `Category`.\n",
    "\n",
    "As we are currently more interested in the big picture, we will work with the `Category` data only going forward.\n",
    "\n",
    "\n",
    "## Most Popular Apps by Genre on the App Store\n",
    "\n",
    "Let's take a look at the 'most popular' iOS apps.\n",
    "\n",
    "One way to find out what genres are the most popular (have the most users) is to calculate the average number of installs for each app genre. For the Google Play data set, we can find this information in the `Installs` column, but this information is missing for the App Store data set. \n",
    "\n",
    "As a workaround, we'll take the total number of user ratings as a proxy, which we can find in the `rating_count_tot` column."
   ]
  },
  {
   "cell_type": "code",
   "execution_count": 86,
   "metadata": {},
   "outputs": [
    {
     "name": "stdout",
     "output_type": "stream",
     "text": [
      "Social Networking : 71548\n",
      "Photo & Video : 28442\n",
      "Games : 22886\n",
      "Music : 57327\n",
      "Reference : 79350\n",
      "Health & Fitness : 23298\n",
      "Weather : 52280\n",
      "Utilities : 19156\n",
      "Travel : 28244\n",
      "Shopping : 27231\n",
      "News : 21248\n",
      "Navigation : 86090\n",
      "Lifestyle : 16815\n",
      "Entertainment : 14195\n",
      "Food & Drink : 33334\n",
      "Sports : 23009\n",
      "Book : 46385\n",
      "Finance : 32367\n",
      "Education : 7004\n",
      "Productivity : 21028\n",
      "Business : 7491\n",
      "Catalogs : 4004\n",
      "Medical : 612\n"
     ]
    }
   ],
   "source": [
    "# Get iOS genres frequency table\n",
    "ios_unique_genres = freq_table(ios_final, -5)\n",
    "\n",
    "# Get user ratings\n",
    "for genre in ios_unique_genres:\n",
    "    # Stores the sum of user ratings\n",
    "    total = 0    \n",
    "    \n",
    "    # Stores the number of unique apps in a genre\n",
    "    len_genre = 0    \n",
    "    \n",
    "    genre_dict = {}\n",
    "    \n",
    "    for row in ios_final:\n",
    "        genre_app = row[-5]\n",
    "        if genre == genre_app:\n",
    "            user_ratings = float(row[5])\n",
    "            total += user_ratings\n",
    "            len_genre += 1\n",
    "            \n",
    "    avg_user_rating = round(total / len_genre)\n",
    "    print(genre, ':', avg_user_rating)\n"
   ]
  },
  {
   "cell_type": "markdown",
   "metadata": {
    "collapsed": true
   },
   "source": [
    "On average, `Navigation` apps have the highest number of user reviews. Let's look further.\n",
    "\n",
    "We can see that a small number of apps (Waze and Google Maps) have the overwhelming proportion of user reviews for this category."
   ]
  },
  {
   "cell_type": "code",
   "execution_count": 32,
   "metadata": {},
   "outputs": [
    {
     "name": "stdout",
     "output_type": "stream",
     "text": [
      "Waze - GPS Navigation, Maps & Real-time Traffic : 345046\n",
      "Google Maps - Navigation & Transit : 154911\n",
      "Geocaching® : 12811\n",
      "CoPilot GPS – Car Navigation & Offline Maps : 3582\n",
      "ImmobilienScout24: Real Estate Search in Germany : 187\n",
      "Railway Route Search : 5\n"
     ]
    }
   ],
   "source": [
    "for row in ios_final:\n",
    "    if row[-5] == 'Navigation':\n",
    "        print(row[1], ':', row[5])\n",
    "        "
   ]
  },
  {
   "cell_type": "markdown",
   "metadata": {},
   "source": [
    "The same pattern applies to `Social Networking`, with Facebook and Pintrest accounting for the overwhelming majority of the category's user reviews."
   ]
  },
  {
   "cell_type": "code",
   "execution_count": 33,
   "metadata": {},
   "outputs": [
    {
     "name": "stdout",
     "output_type": "stream",
     "text": [
      "Facebook : 2974676\n",
      "Pinterest : 1061624\n",
      "Skype for iPhone : 373519\n",
      "Messenger : 351466\n",
      "Tumblr : 334293\n",
      "WhatsApp Messenger : 287589\n",
      "Kik : 260965\n",
      "ooVoo – Free Video Call, Text and Voice : 177501\n",
      "TextNow - Unlimited Text + Calls : 164963\n",
      "Viber Messenger – Text & Call : 164249\n",
      "Followers - Social Analytics For Instagram : 112778\n",
      "MeetMe - Chat and Meet New People : 97072\n",
      "We Heart It - Fashion, wallpapers, quotes, tattoos : 90414\n",
      "InsTrack for Instagram - Analytics Plus More : 85535\n",
      "Tango - Free Video Call, Voice and Chat : 75412\n",
      "LinkedIn : 71856\n",
      "Match™ - #1 Dating App. : 60659\n",
      "Skype for iPad : 60163\n",
      "POF - Best Dating App for Conversations : 52642\n",
      "Timehop : 49510\n",
      "Find My Family, Friends & iPhone - Life360 Locator : 43877\n",
      "Whisper - Share, Express, Meet : 39819\n",
      "Hangouts : 36404\n",
      "LINE PLAY - Your Avatar World : 34677\n",
      "WeChat : 34584\n",
      "Badoo - Meet New People, Chat, Socialize. : 34428\n",
      "Followers + for Instagram - Follower Analytics : 28633\n",
      "GroupMe : 28260\n",
      "Marco Polo Video Walkie Talkie : 27662\n",
      "Miitomo : 23965\n",
      "SimSimi : 23530\n",
      "Grindr - Gay and same sex guys chat, meet and date : 23201\n",
      "Wishbone - Compare Anything : 20649\n",
      "imo video calls and chat : 18841\n",
      "After School - Funny Anonymous School News : 18482\n",
      "Quick Reposter - Repost, Regram and Reshare Photos : 17694\n",
      "Weibo HD : 16772\n",
      "Repost for Instagram : 15185\n",
      "Live.me – Live Video Chat & Make Friends Nearby : 14724\n",
      "Nextdoor : 14402\n",
      "Followers Analytics for Instagram - InstaReport : 13914\n",
      "YouNow: Live Stream Video Chat : 12079\n",
      "FollowMeter for Instagram - Followers Tracking : 11976\n",
      "LINE : 11437\n",
      "eHarmony™ Dating App - Meet Singles : 11124\n",
      "Discord - Chat for Gamers : 9152\n",
      "QQ : 9109\n",
      "Telegram Messenger : 7573\n",
      "Weibo : 7265\n",
      "Periscope - Live Video Streaming Around the World : 6062\n",
      "Chat for Whatsapp - iPad Version : 5060\n",
      "QQ HD : 5058\n",
      "Followers Analysis Tool For Instagram App Free : 4253\n",
      "live.ly - live video streaming : 4145\n",
      "Houseparty - Group Video Chat : 3991\n",
      "SOMA Messenger : 3232\n",
      "Monkey : 3060\n",
      "Down To Lunch : 2535\n",
      "Flinch - Video Chat Staring Contest : 2134\n",
      "Highrise - Your Avatar Community : 2011\n",
      "LOVOO - Dating Chat : 1985\n",
      "PlayStation®Messages : 1918\n",
      "BOO! - Video chat camera with filters & stickers : 1805\n",
      "Qzone : 1649\n",
      "Chatous - Chat with new people : 1609\n",
      "Kiwi - Q&A : 1538\n",
      "GhostCodes - a discovery app for Snapchat : 1313\n",
      "Jodel : 1193\n",
      "FireChat : 1037\n",
      "Google Duo - simple video calling : 1033\n",
      "Fiesta by Tango - Chat & Meet New People : 885\n",
      "Google Allo — smart messaging : 862\n",
      "Peach — share vividly : 727\n",
      "Hey! VINA - Where Women Meet New Friends : 719\n",
      "Battlefield™ Companion : 689\n",
      "All Devices for WhatsApp - Messenger for iPad : 682\n",
      "Chat for Pokemon Go - GoChat : 500\n",
      "IAmNaughty – Dating App to Meet New People Online : 463\n",
      "Qzone HD : 458\n",
      "Zenly - Locate your friends in realtime : 427\n",
      "League of Legends Friends : 420\n",
      "豆瓣 : 407\n",
      "Candid - Speak Your Mind Freely : 398\n",
      "知乎 : 397\n",
      "Selfeo : 366\n",
      "Fake-A-Location Free ™ : 354\n",
      "Popcorn Buzz - Free Group Calls : 281\n",
      "Fam — Group video calling for iMessage : 279\n",
      "QQ International : 274\n",
      "Ameba : 269\n",
      "SoundCloud Pulse: for creators : 240\n",
      "Tantan : 235\n",
      "Cougar Dating & Life Style App for Mature Women : 213\n",
      "Rawr Messenger - Dab your chat : 180\n",
      "WhenToPost: Best Time to Post Photos for Instagram : 158\n",
      "Inke—Broadcast an amazing life : 147\n",
      "Mustknow - anonymous video Q&A : 53\n",
      "CTFxCmoji : 39\n",
      "Lobi : 36\n",
      "Chain: Collaborate On MyVideo Story/Group Video : 35\n",
      "botman - Real time video chat : 7\n",
      "BestieBox : 0\n",
      "MATCH ON LINE chat : 0\n",
      "niconico ch : 0\n",
      "LINE BLOG : 0\n",
      "bit-tube - Live Stream Video Chat : 0\n"
     ]
    }
   ],
   "source": [
    "for row in ios_final:\n",
    "    if row[-5] == 'Social Networking':\n",
    "        print(row[1], ':', row[5])\n"
   ]
  },
  {
   "cell_type": "markdown",
   "metadata": {
    "collapsed": true
   },
   "source": [
    "Let's check out what the `References` category tells us. \n",
    "\n",
    "It too is skewed by a couple of big hitters, the Bible and Dictionary.com."
   ]
  },
  {
   "cell_type": "code",
   "execution_count": 34,
   "metadata": {},
   "outputs": [
    {
     "name": "stdout",
     "output_type": "stream",
     "text": [
      "Bible : 985920\n",
      "Dictionary.com Dictionary & Thesaurus : 200047\n",
      "Dictionary.com Dictionary & Thesaurus for iPad : 54175\n",
      "Google Translate : 26786\n",
      "Muslim Pro: Ramadan 2017 Prayer Times, Azan, Quran : 18418\n",
      "New Furniture Mods - Pocket Wiki & Game Tools for Minecraft PC Edition : 17588\n",
      "Merriam-Webster Dictionary : 16849\n",
      "Night Sky : 12122\n",
      "City Maps for Minecraft PE - The Best Maps for Minecraft Pocket Edition (MCPE) : 8535\n",
      "LUCKY BLOCK MOD ™ for Minecraft PC Edition - The Best Pocket Wiki & Mods Installer Tools : 4693\n",
      "GUNS MODS for Minecraft PC Edition - Mods Tools : 1497\n",
      "Guides for Pokémon GO - Pokemon GO News and Cheats : 826\n",
      "WWDC : 762\n",
      "Horror Maps for Minecraft PE - Download The Scariest Maps for Minecraft Pocket Edition (MCPE) Free : 718\n",
      "VPN Express : 14\n",
      "Real Bike Traffic Rider Virtual Reality Glasses : 8\n",
      "Jishokun-Japanese English Dictionary & Translator : 0\n"
     ]
    }
   ],
   "source": [
    "for row in ios_final:\n",
    "    if row[-5] == 'Reference':\n",
    "        print(row[1], ':', row[5])"
   ]
  },
  {
   "cell_type": "markdown",
   "metadata": {},
   "source": [
    "We appear to have the following options:\n",
    "\n",
    "- Look to create an app that will compete with the titans that are `Facebook`, `Google Maps`, `Bible` etc. However, this would require significant investment to reseach and implement, and for our pruposes does not really work as a strategy\n",
    "\n",
    "- Go back to the data, strip these apps that are skewing the results to get a more reasonable and accurate representation of what is popular outside of these top tier apps. \n",
    "\n",
    "Looking at the data in its current form however, the following thoughts occur:\n",
    "\n",
    "- We may want to consider the **saturation** of apps in a particular category. Take `Social Networking` for example, which contains over 100 individual apps. We can see from user reviews for Facebook, Pinterest, WhatsApp Messenger etc, that if this a Social Networking app takes off, it has the potential to be incredibly popular. Perhaps then a new messaging app, for example would seem like a good idea. However, how to make it stand out from the noise of 100+ existing apps, all clamouring for market share?\n",
    "\n",
    "- **`Food & Drink`** is a genre with upper-mid range popularity, and has relatively few unique apps. Perhaps an app would have greater chance of success here. Apart from existing food delivery service apps, there is one high ranking app which allows you to make reservations. We could go one step further by building an app that returns all current specials and deals at restaurants in a particular location, and then allows you to book your table. This has the added benefit of not requiring any specialist knowledge. Furthmore, as the App Store has such a high concentration of apps that are 'fun', this more practical (yet still entertainment-related) app might have a chance at standing out.\n",
    "\n",
    "- **`Book`** is a genre with some potential also. There are relatively few apps to compete against, but a good level of popularity. We could take popular book and turn it into an app with special features in addition to the raw version of the book, e.g. daily quotes from the book, an audio version, quizzes about the book, an online forum for readers to discuss etc. On top of that, we could also embed a dictionary within the app, so users don't need to exit our app to look up words in an external app. As with the `Food & Drink` idea, this more practical app might stand out amongst the fun apps which dominate the App Store.\n"
   ]
  },
  {
   "cell_type": "code",
   "execution_count": 35,
   "metadata": {},
   "outputs": [
    {
     "name": "stdout",
     "output_type": "stream",
     "text": [
      "Kindle – Read eBooks, Magazines & Textbooks : 252076\n",
      "Audible – audio books, original series & podcasts : 105274\n",
      "Color Therapy Adult Coloring Book for Adults : 84062\n",
      "OverDrive – Library eBooks and Audiobooks : 65450\n",
      "HOOKED - Chat Stories : 47829\n",
      "BookShout: Read eBooks & Track Your Reading Goals : 879\n",
      "Dr. Seuss Treasury — 50 best kids books : 451\n",
      "Green Riding Hood : 392\n",
      "Weirdwood Manor : 197\n",
      "MangaZERO - comic reader : 9\n",
      "ikouhoushi : 0\n",
      "MangaTiara - love comic reader : 0\n"
     ]
    }
   ],
   "source": [
    "for row in ios_final:\n",
    "    if row[-5] == 'Book':\n",
    "        print(row[1], ':', row[5])"
   ]
  },
  {
   "cell_type": "markdown",
   "metadata": {
    "collapsed": true
   },
   "source": [
    "## Most Popular Apps by Genre on Google Play\n",
    "\n",
    "Let's now look at the 'most popular' Android apps.\n",
    "\n",
    "We use the column `Installs` to calculate the popularity of genres. \n",
    "\n",
    "`Installs` values are open-ended (100+, 100,000+) and use ',' hence we will need to replace these characters to make the values usable for our calculations.\n"
   ]
  },
  {
   "cell_type": "code",
   "execution_count": 87,
   "metadata": {},
   "outputs": [
    {
     "name": "stdout",
     "output_type": "stream",
     "text": [
      "COMMUNICATION : 38590581\n",
      "VIDEO_PLAYERS : 24727872\n",
      "SOCIAL : 23253652\n",
      "PHOTOGRAPHY : 17840110\n",
      "PRODUCTIVITY : 16787331\n",
      "GAME : 15544015\n",
      "TRAVEL_AND_LOCAL : 13984078\n",
      "ENTERTAINMENT : 11640706\n",
      "TOOLS : 10830252\n",
      "NEWS_AND_MAGAZINES : 9549178\n",
      "BOOKS_AND_REFERENCE : 8814200\n",
      "SHOPPING : 7036877\n",
      "PERSONALIZATION : 5201483\n",
      "WEATHER : 5145550\n",
      "HEALTH_AND_FITNESS : 4188822\n",
      "MAPS_AND_NAVIGATION : 4049275\n",
      "FAMILY : 3697848\n",
      "SPORTS : 3650602\n",
      "ART_AND_DESIGN : 1986335\n",
      "FOOD_AND_DRINK : 1924898\n",
      "EDUCATION : 1833495\n",
      "BUSINESS : 1712290\n",
      "LIFESTYLE : 1446158\n",
      "FINANCE : 1387692\n",
      "HOUSE_AND_HOME : 1360598\n",
      "DATING : 854029\n",
      "COMICS : 832614\n",
      "AUTO_AND_VEHICLES : 647318\n",
      "LIBRARIES_AND_DEMO : 638504\n",
      "PARENTING : 542604\n",
      "BEAUTY : 513152\n",
      "EVENTS : 253542\n",
      "MEDICAL : 120551\n"
     ]
    }
   ],
   "source": [
    "# Create a genre frequency table for Google Play apps\n",
    "android_unique_genres = freq_table(android_final, 1)\n",
    "\n",
    "cat_installs_list = []\n",
    "cat_installs_dict = {}\n",
    "\n",
    "for category in android_unique_genres:\n",
    "    # Stores the sum of installs specific to each genre\n",
    "    total = 0    \n",
    "    \n",
    "    # Stores the number of apps specific to each genre  \n",
    "    len_category = 0      \n",
    "    \n",
    "    # get average no of installs per genre\n",
    "    for row in android_final:\n",
    "        category_app = row[1]\n",
    "        \n",
    "        # remove all instances of '+' and ',' from a value\n",
    "        if category == category_app:\n",
    "            installs = row[5].replace('+', '')   \n",
    "            installs_1 = float(installs.replace(',', ''))   \n",
    "            total += installs_1\n",
    "            len_category += 1\n",
    "            \n",
    "    avg_installs = round(total / len_category)\n",
    "    cat_installs_dict[category] = avg_installs    \n",
    "\n",
    "# loop over the dictionary. For every dictionary entry create a tuple (installs, category) and append it to a list\n",
    "for index in cat_installs_dict:\n",
    "    cat_installs_tuple = ((cat_installs_dict[index]), index)\n",
    "    cat_installs_list.append(cat_installs_tuple)\n",
    "\n",
    "#sort the list in reverse order\n",
    "cat_installs_sorted = sorted(cat_installs_list, reverse = True) \n",
    "\n",
    "for element in cat_installs_sorted:\n",
    "    print(element[1], ':', element[0])\n"
   ]
  },
  {
   "cell_type": "markdown",
   "metadata": {},
   "source": [
    "From the above we can see that the most popular genres with free English apps on Google play are `COMMUNICATION`, `VIDEO_PLAYERS` and `SOCIAL`.\n",
    "\n",
    "However, if we delve deeper into the popularity of the apps, we can see again the same pattern of a small number of apps dominating in popularity.\n",
    "\n",
    "For `COMMUNICATION`, if we do not consider the apps with > 100M installs, the popularity of `COMMUNICATION` apps **decreases more than 10 fold** from 38,590,581 to 3,617,398."
   ]
  },
  {
   "cell_type": "code",
   "execution_count": 37,
   "metadata": {
    "scrolled": true
   },
   "outputs": [
    {
     "data": {
      "text/plain": [
       "3617398"
      ]
     },
     "execution_count": 37,
     "metadata": {},
     "output_type": "execute_result"
    }
   ],
   "source": [
    "under_100_m = []\n",
    "\n",
    "# remove outliers\n",
    "for app in android_final:\n",
    "    n_installs = app[5]\n",
    "    n_installs = n_installs.replace(',', '')\n",
    "    n_installs = n_installs.replace('+', '')\n",
    "    if (app[1] == 'COMMUNICATION') and (float(n_installs) < 100000000):\n",
    "        under_100_m.append(float(n_installs))\n",
    "        \n",
    "round(sum(under_100_m) / len(under_100_m))"
   ]
  },
  {
   "cell_type": "markdown",
   "metadata": {
    "collapsed": true
   },
   "source": [
    "This same pattern for the `VIDEO_PLAYERS` category (Youtube, Google Play Movies & TV, MX Player), for `SOCIAL` apps (Facebook, Instagram, Google+, etc.), `PHOTOGRAPHY` apps (Google Photos and other popular photo editors) and `PRODUCTIVITY` apps (Microsoft Word, Dropbox, Google Calendar, Evernote, etc.).\n",
    "\n",
    "We cannot take the popularity data at face value with these few big players skewing the results. Furthermore, were we to build an app based on the above most 'popular' categories, these giants would be hard to compete with.\n",
    "\n",
    "Let's explore the genres that we found had potential in the App Store:\n",
    "\n",
    "**`FOOD_AND_DRINK`**  \n",
    "With only 1.9M installs, this genre does not share the same popularity on Google Play as its App Store counterpart. As we are looking for an app that shows potential for being profitable in both markets, we decide to rule out this genre.\n",
    "\n",
    "\n",
    "**`BOOKS_AND_REFERENCE`**  \n",
    "The books and reference genre looks fairly popular here as well as at the App Store, with an average number of installs of 8.8M. Let's take a look at some of the apps from this genre and their number of installs:"
   ]
  },
  {
   "cell_type": "code",
   "execution_count": 38,
   "metadata": {},
   "outputs": [
    {
     "name": "stdout",
     "output_type": "stream",
     "text": [
      "E-Book Read - Read Book for free : 50,000+\n",
      "Download free book with green book : 100,000+\n",
      "Wikipedia : 10,000,000+\n",
      "Cool Reader : 10,000,000+\n",
      "Free Panda Radio Music : 100,000+\n",
      "Book store : 1,000,000+\n",
      "FBReader: Favorite Book Reader : 10,000,000+\n",
      "English Grammar Complete Handbook : 500,000+\n",
      "Free Books - Spirit Fanfiction and Stories : 1,000,000+\n",
      "Google Play Books : 1,000,000,000+\n",
      "AlReader -any text book reader : 5,000,000+\n",
      "Offline English Dictionary : 100,000+\n",
      "Offline: English to Tagalog Dictionary : 500,000+\n",
      "FamilySearch Tree : 1,000,000+\n",
      "Cloud of Books : 1,000,000+\n",
      "Recipes of Prophetic Medicine for free : 500,000+\n",
      "ReadEra – free ebook reader : 1,000,000+\n",
      "Anonymous caller detection : 10,000+\n",
      "Ebook Reader : 5,000,000+\n",
      "Litnet - E-books : 100,000+\n",
      "Read books online : 5,000,000+\n",
      "English to Urdu Dictionary : 500,000+\n",
      "eBoox: book reader fb2 epub zip : 1,000,000+\n",
      "English Persian Dictionary : 500,000+\n",
      "Flybook : 500,000+\n",
      "All Maths Formulas : 1,000,000+\n",
      "Ancestry : 5,000,000+\n",
      "HTC Help : 10,000,000+\n",
      "English translation from Bengali : 100,000+\n",
      "Pdf Book Download - Read Pdf Book : 100,000+\n",
      "Free Book Reader : 100,000+\n",
      "eBoox new: Reader for fb2 epub zip books : 50,000+\n",
      "Only 30 days in English, the guideline is guaranteed : 500,000+\n",
      "Moon+ Reader : 10,000,000+\n",
      "SH-02J Owner's Manual (Android 8.0) : 50,000+\n",
      "English-Myanmar Dictionary : 1,000,000+\n",
      "Golden Dictionary (EN-AR) : 1,000,000+\n",
      "All Language Translator Free : 1,000,000+\n",
      "Azpen eReader : 500,000+\n",
      "URBANO V 02 instruction manual : 100,000+\n",
      "Bible : 100,000,000+\n",
      "C Programs and Reference : 50,000+\n",
      "C Offline Tutorial : 1,000+\n",
      "C Programs Handbook : 50,000+\n",
      "Amazon Kindle : 100,000,000+\n",
      "Aab e Hayat Full Novel : 100,000+\n",
      "Aldiko Book Reader : 10,000,000+\n",
      "Google I/O 2018 : 500,000+\n",
      "R Language Reference Guide : 10,000+\n",
      "Learn R Programming Full : 5,000+\n",
      "R Programing Offline Tutorial : 1,000+\n",
      "Guide for R Programming : 5+\n",
      "Learn R Programming : 10+\n",
      "R Quick Reference Big Data : 1,000+\n",
      "V Made : 100,000+\n",
      "Wattpad 📖 Free Books : 100,000,000+\n",
      "Dictionary - WordWeb : 5,000,000+\n",
      "Guide (for X-MEN) : 100,000+\n",
      "AC Air condition Troubleshoot,Repair,Maintenance : 5,000+\n",
      "AE Bulletins : 1,000+\n",
      "Ae Allah na Dai (Rasa) : 10,000+\n",
      "50000 Free eBooks & Free AudioBooks : 5,000,000+\n",
      "Ag PhD Field Guide : 10,000+\n",
      "Ag PhD Deficiencies : 10,000+\n",
      "Ag PhD Planting Population Calculator : 1,000+\n",
      "Ag PhD Soybean Diseases : 1,000+\n",
      "Fertilizer Removal By Crop : 50,000+\n",
      "A-J Media Vault : 50+\n",
      "Al-Quran (Free) : 10,000,000+\n",
      "Al Quran (Tafsir & by Word) : 500,000+\n",
      "Al Quran Indonesia : 10,000,000+\n",
      "Al'Quran Bahasa Indonesia : 10,000,000+\n",
      "Al Quran Al karim : 1,000,000+\n",
      "Al-Muhaffiz : 50,000+\n",
      "Al Quran : EAlim - Translations & MP3 Offline : 5,000,000+\n",
      "Al-Quran 30 Juz free copies : 500,000+\n",
      "Koran Read &MP3 30 Juz Offline : 1,000,000+\n",
      "Hafizi Quran 15 lines per page : 1,000,000+\n",
      "Quran for Android : 10,000,000+\n",
      "Surah Al-Waqiah : 100,000+\n",
      "Hisnul Al Muslim - Hisn Invocations & Adhkaar : 100,000+\n",
      "Satellite AR : 1,000,000+\n",
      "Audiobooks from Audible : 100,000,000+\n",
      "Kinot & Eichah for Tisha B'Av : 10,000+\n",
      "AW Tozer Devotionals - Daily : 5,000+\n",
      "Tozer Devotional -Series 1 : 1,000+\n",
      "The Pursuit of God : 1,000+\n",
      "AY Sing : 5,000+\n",
      "Ay Hasnain k Nana Milad Naat : 10,000+\n",
      "Ay Mohabbat Teri Khatir Novel : 10,000+\n",
      "Arizona Statutes, ARS (AZ Law) : 1,000+\n",
      "Oxford A-Z of English Usage : 1,000,000+\n",
      "BD Fishpedia : 1,000+\n",
      "BD All Sim Offer : 10,000+\n",
      "Youboox - Livres, BD et magazines : 500,000+\n",
      "B&H Kids AR : 10,000+\n",
      "B y H Niños ES : 5,000+\n",
      "Dictionary.com: Find Definitions for English Words : 10,000,000+\n",
      "English Dictionary - Offline : 10,000,000+\n",
      "Bible KJV : 5,000,000+\n",
      "Borneo Bible, BM Bible : 10,000+\n",
      "MOD Black for BM : 100+\n",
      "BM Box : 1,000+\n",
      "Anime Mod for BM : 100+\n",
      "NOOK: Read eBooks & Magazines : 10,000,000+\n",
      "NOOK Audiobooks : 500,000+\n",
      "NOOK App for NOOK Devices : 500,000+\n",
      "Browsery by Barnes & Noble : 5,000+\n",
      "bp e-store : 1,000+\n",
      "Brilliant Quotes: Life, Love, Family & Motivation : 1,000,000+\n",
      "BR Ambedkar Biography & Quotes : 10,000+\n",
      "BU Alsace : 100+\n",
      "Catholic La Bu Zo Kam : 500+\n",
      "Khrifa Hla Bu (Solfa) : 10+\n",
      "Kristian Hla Bu : 10,000+\n",
      "SA HLA BU : 1,000+\n",
      "Learn SAP BW : 500+\n",
      "Learn SAP BW on HANA : 500+\n",
      "CA Laws 2018 (California Laws and Codes) : 5,000+\n",
      "Bootable Methods(USB-CD-DVD) : 10,000+\n",
      "cloudLibrary : 100,000+\n",
      "SDA Collegiate Quarterly : 500+\n",
      "Sabbath School : 100,000+\n",
      "Cypress College Library : 100+\n",
      "Stats Royale for Clash Royale : 1,000,000+\n",
      "GATE 21 years CS Papers(2011-2018 Solved) : 50+\n",
      "Learn CT Scan Of Head : 5,000+\n",
      "Easy Cv maker 2018 : 10,000+\n",
      "How to Write CV : 100,000+\n",
      "CW Nuclear : 1,000+\n",
      "CY Spray nozzle : 10+\n",
      "BibleRead En Cy Zh Yue : 5+\n",
      "CZ-Help : 5+\n",
      "Guide for DB Xenoverse : 10,000+\n",
      "Guide for DB Xenoverse 2 : 10,000+\n",
      "Guide for IMS DB : 10+\n",
      "DC HSEMA : 5,000+\n",
      "DC Public Library : 1,000+\n",
      "Painting Lulu DC Super Friends : 1,000+\n",
      "Dictionary : 10,000,000+\n",
      "Fix Error Google Playstore : 1,000+\n",
      "D. H. Lawrence Poems FREE : 1,000+\n",
      "Bilingual Dictionary Audio App : 5,000+\n",
      "DM Screen : 10,000+\n",
      "wikiHow: how to do anything : 1,000,000+\n",
      "Dr. Doug's Tips : 1,000+\n",
      "Bible du Semeur-BDS (French) : 50,000+\n",
      "La citadelle du musulman : 50,000+\n",
      "DV 2019 Entry Guide : 10,000+\n",
      "DV 2019 - EDV Photo & Form : 50,000+\n",
      "DV 2018 Winners Guide : 1,000+\n",
      "EB Annual Meetings : 1,000+\n",
      "EC - AP & Telangana : 5,000+\n",
      "TN Patta Citta & EC : 10,000+\n",
      "AP Stamps and Registration : 10,000+\n",
      "CompactiMa EC pH Calibration : 100+\n",
      "EGW Writings 2 : 100,000+\n",
      "EGW Writings : 1,000,000+\n",
      "Bible with EGW Comments : 100,000+\n",
      "My Little Pony AR Guide : 1,000,000+\n",
      "SDA Sabbath School Quarterly : 500,000+\n",
      "Duaa Ek Ibaadat : 5,000+\n",
      "Spanish English Translator : 10,000,000+\n",
      "Dictionary - Merriam-Webster : 10,000,000+\n",
      "JW Library : 10,000,000+\n",
      "Oxford Dictionary of English : Free : 10,000,000+\n",
      "English Hindi Dictionary : 10,000,000+\n",
      "English to Hindi Dictionary : 5,000,000+\n",
      "EP Research Service : 1,000+\n",
      "Hymnes et Louanges : 100,000+\n",
      "EU Charter : 1,000+\n",
      "EU Data Protection : 1,000+\n",
      "EU IP Codes : 100+\n",
      "EW PDF : 5+\n",
      "BakaReader EX : 100,000+\n",
      "EZ Quran : 50,000+\n",
      "FA Part 1 & 2 Past Papers Solved Free – Offline : 5,000+\n",
      "La Fe de Jesus : 1,000+\n",
      "La Fe de Jesús : 500+\n",
      "Le Fe de Jesus : 500+\n",
      "Florida - Pocket Brainbook : 1,000+\n",
      "Florida Statutes (FL Code) : 1,000+\n",
      "English To Shona Dictionary : 10,000+\n",
      "Greek Bible FP (Audio) : 1,000+\n",
      "Golden Dictionary (FR-AR) : 500,000+\n",
      "Fanfic-FR : 5,000+\n",
      "Bulgarian French Dictionary Fr : 10,000+\n",
      "Chemin (fr) : 1,000+\n",
      "The SCP Foundation DB fr nn5n : 1,000+\n"
     ]
    }
   ],
   "source": [
    "for app in android_final:\n",
    "    if app[1] == 'BOOKS_AND_REFERENCE':\n",
    "        print(app[0], ':', app[5])"
   ]
  },
  {
   "cell_type": "markdown",
   "metadata": {},
   "source": [
    "The `BOOKS_AND_REFERENCE` genre includes a variety of apps: software for processing and reading ebooks, various collections of libraries, dictionaries, tutorials on programming or languages, etc. \n",
    "\n",
    "It seems there's still a small number of extremely popular apps that skew the average:"
   ]
  },
  {
   "cell_type": "code",
   "execution_count": 39,
   "metadata": {},
   "outputs": [
    {
     "name": "stdout",
     "output_type": "stream",
     "text": [
      "Google Play Books : 1,000,000,000+\n",
      "Bible : 100,000,000+\n",
      "Amazon Kindle : 100,000,000+\n",
      "Wattpad 📖 Free Books : 100,000,000+\n",
      "Audiobooks from Audible : 100,000,000+\n"
     ]
    }
   ],
   "source": [
    "for app in android_final:\n",
    "    if app[1] == 'BOOKS_AND_REFERENCE' and (app[5] == '1,000,000,000+'\n",
    "                                            or app[5] == '500,000,000+'\n",
    "                                            or app[5] == '100,000,000+'):\n",
    "        print(app[0], ':', app[5])"
   ]
  },
  {
   "cell_type": "markdown",
   "metadata": {},
   "source": [
    "Outside of these, there are still a lot of reasonably popular apps. Let's look at those which sit in the range of 1M - 100M installs. \n",
    "\n",
    "There is a dominance of e-reader apps, along with reference books."
   ]
  },
  {
   "cell_type": "code",
   "execution_count": 40,
   "metadata": {
    "scrolled": true
   },
   "outputs": [
    {
     "name": "stdout",
     "output_type": "stream",
     "text": [
      "Wikipedia : 10,000,000+\n",
      "Cool Reader : 10,000,000+\n",
      "Book store : 1,000,000+\n",
      "FBReader: Favorite Book Reader : 10,000,000+\n",
      "Free Books - Spirit Fanfiction and Stories : 1,000,000+\n",
      "AlReader -any text book reader : 5,000,000+\n",
      "FamilySearch Tree : 1,000,000+\n",
      "Cloud of Books : 1,000,000+\n",
      "ReadEra – free ebook reader : 1,000,000+\n",
      "Ebook Reader : 5,000,000+\n",
      "Read books online : 5,000,000+\n",
      "eBoox: book reader fb2 epub zip : 1,000,000+\n",
      "All Maths Formulas : 1,000,000+\n",
      "Ancestry : 5,000,000+\n",
      "HTC Help : 10,000,000+\n",
      "Moon+ Reader : 10,000,000+\n",
      "English-Myanmar Dictionary : 1,000,000+\n",
      "Golden Dictionary (EN-AR) : 1,000,000+\n",
      "All Language Translator Free : 1,000,000+\n",
      "Aldiko Book Reader : 10,000,000+\n",
      "Dictionary - WordWeb : 5,000,000+\n",
      "50000 Free eBooks & Free AudioBooks : 5,000,000+\n",
      "Al-Quran (Free) : 10,000,000+\n",
      "Al Quran Indonesia : 10,000,000+\n",
      "Al'Quran Bahasa Indonesia : 10,000,000+\n",
      "Al Quran Al karim : 1,000,000+\n",
      "Al Quran : EAlim - Translations & MP3 Offline : 5,000,000+\n",
      "Koran Read &MP3 30 Juz Offline : 1,000,000+\n",
      "Hafizi Quran 15 lines per page : 1,000,000+\n",
      "Quran for Android : 10,000,000+\n",
      "Satellite AR : 1,000,000+\n",
      "Oxford A-Z of English Usage : 1,000,000+\n",
      "Dictionary.com: Find Definitions for English Words : 10,000,000+\n",
      "English Dictionary - Offline : 10,000,000+\n",
      "Bible KJV : 5,000,000+\n",
      "NOOK: Read eBooks & Magazines : 10,000,000+\n",
      "Brilliant Quotes: Life, Love, Family & Motivation : 1,000,000+\n",
      "Stats Royale for Clash Royale : 1,000,000+\n",
      "Dictionary : 10,000,000+\n",
      "wikiHow: how to do anything : 1,000,000+\n",
      "EGW Writings : 1,000,000+\n",
      "My Little Pony AR Guide : 1,000,000+\n",
      "Spanish English Translator : 10,000,000+\n",
      "Dictionary - Merriam-Webster : 10,000,000+\n",
      "JW Library : 10,000,000+\n",
      "Oxford Dictionary of English : Free : 10,000,000+\n",
      "English Hindi Dictionary : 10,000,000+\n",
      "English to Hindi Dictionary : 5,000,000+\n"
     ]
    }
   ],
   "source": [
    "for app in android_final:\n",
    "    if app[1] == 'BOOKS_AND_REFERENCE' and (app[5] == '1,000,000+'\n",
    "                                            or app[5] == '5,000,000+'\n",
    "                                            or app[5] == '10,000,000+'\n",
    "                                           or app[5] == '50,000,000+'):\n",
    "        print(app[0], ':', app[5])"
   ]
  },
  {
   "cell_type": "markdown",
   "metadata": {},
   "source": [
    "We also notice there are a number of apps built arounnd the Quran, which suggests our idea of building an app around a particular book might be a good one. \n",
    "\n",
    "As mentioned above, as there are many existing library-style apps, a we would need to differentiate by having special features additional to the text, such as daily quotes, quizes, audio, built-in dictionary, an online forum for readers to discuss et.\n",
    "\n",
    "\n",
    "# Conclusion\n",
    "\n",
    "In this project, we analysed data about the App Store and Google Play mobile apps with the goal of recommending an app profile that would be profitable for both markets.\n",
    "\n",
    "We concluded that taking a popular book (perhaps a more recent book) and turning it into an app could be profitable for both the Google Play and the App Store markets. \n",
    "\n",
    "The markets are already full of libraries, so we need to add some special features besides the raw version of the book. This might include daily quotes from the book, an audio version of the book, quizzes on the book, a forum where people can discuss the book, etc."
   ]
  }
 ],
 "metadata": {
  "kernelspec": {
   "display_name": "Python 3",
   "language": "python",
   "name": "python3"
  },
  "language_info": {
   "codemirror_mode": {
    "name": "ipython",
    "version": 3
   },
   "file_extension": ".py",
   "mimetype": "text/x-python",
   "name": "python",
   "nbconvert_exporter": "python",
   "pygments_lexer": "ipython3",
   "version": "3.7.1"
  }
 },
 "nbformat": 4,
 "nbformat_minor": 2
}
